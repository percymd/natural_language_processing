{
 "cells": [
  {
   "cell_type": "code",
   "execution_count": 1,
   "id": "af6e6bd3",
   "metadata": {},
   "outputs": [
    {
     "name": "stderr",
     "output_type": "stream",
     "text": [
      "[nltk_data] Downloading package cess_esp to\n",
      "[nltk_data]     C:\\Users\\User\\AppData\\Roaming\\nltk_data...\n",
      "[nltk_data]   Package cess_esp is already up-to-date!\n"
     ]
    },
    {
     "data": {
      "text/plain": [
       "True"
      ]
     },
     "execution_count": 1,
     "metadata": {},
     "output_type": "execute_result"
    }
   ],
   "source": [
    "import nltk\n",
    "nltk.download('cess_esp')"
   ]
  },
  {
   "cell_type": "code",
   "execution_count": 2,
   "id": "2631a302",
   "metadata": {},
   "outputs": [
    {
     "name": "stdout",
     "output_type": "stream",
     "text": [
      "[['El', 'grupo', 'estatal', 'Electricité_de_France', '-Fpa-', 'EDF', '-Fpt-', 'anunció', 'hoy', ',', 'jueves', ',', 'la', 'compra', 'del', '51_por_ciento', 'de', 'la', 'empresa', 'mexicana', 'Electricidad_Águila_de_Altamira', '-Fpa-', 'EAA', '-Fpt-', ',', 'creada', 'por', 'el', 'japonés', 'Mitsubishi_Corporation', 'para', 'poner_en_marcha', 'una', 'central', 'de', 'gas', 'de', '495', 'megavatios', '.'], ['Una', 'portavoz', 'de', 'EDF', 'explicó', 'a', 'EFE', 'que', 'el', 'proyecto', 'para', 'la', 'construcción', 'de', 'Altamira_2', ',', 'al', 'norte', 'de', 'Tampico', ',', 'prevé', 'la', 'utilización', 'de', 'gas', 'natural', 'como', 'combustible', 'principal', 'en', 'una', 'central', 'de', 'ciclo', 'combinado', 'que', 'debe', 'empezar', 'a', 'funcionar', 'en', 'mayo_del_2002', '.'], ...]\n"
     ]
    }
   ],
   "source": [
    "import re\n",
    "corpus = nltk.corpus.cess_esp.sents()\n",
    "print(corpus)"
   ]
  },
  {
   "cell_type": "code",
   "execution_count": 3,
   "id": "a6c6b497",
   "metadata": {},
   "outputs": [
    {
     "name": "stdout",
     "output_type": "stream",
     "text": [
      "6030\n"
     ]
    }
   ],
   "source": [
    "print(len(corpus))"
   ]
  },
  {
   "cell_type": "code",
   "execution_count": 4,
   "id": "a6a3b876",
   "metadata": {},
   "outputs": [
    {
     "name": "stdout",
     "output_type": "stream",
     "text": [
      "['El', 'grupo', 'estatal', 'Electricité_de_France', '-Fpa-', 'EDF', '-Fpt-', 'anunció', 'hoy', ',', 'jueves', ',', 'la', 'compra', 'del', '51_por_ciento', 'de', 'la', 'empresa', 'mexicana', 'Electricidad_Águila_de_Altamira', '-Fpa-', 'EAA', '-Fpt-', ',', 'creada', 'por', 'el', 'japonés', 'Mitsubishi_Corporation', 'para', 'poner_en_marcha', 'una', 'central', 'de', 'gas', 'de', '495', 'megavatios', '.', 'Una', 'portavoz', 'de', 'EDF', 'explicó', 'a', 'EFE', 'que', 'el', 'proyecto', 'para', 'la', 'construcción', 'de', 'Altamira_2', ',', 'al', 'norte', 'de', 'Tampico', ',', 'prevé', 'la', 'utilización', 'de', 'gas', 'natural', 'como', 'combustible', 'principal', 'en', 'una', 'central', 'de', 'ciclo', 'combinado', 'que', 'debe', 'empezar', 'a', 'funcionar', 'en', 'mayo_del_2002', '.', 'La', 'electricidad', 'producida', 'pasará', 'a', 'la', 'red', 'eléctrica', 'pública', 'de', 'México', 'en_virtud_de', 'un', 'acuerdo', 'de', 'venta']\n"
     ]
    }
   ],
   "source": [
    "flatten = [w for l in corpus for w in l]\n",
    "print(flatten[:100])"
   ]
  },
  {
   "cell_type": "markdown",
   "id": "bbbda42c",
   "metadata": {},
   "source": [
    "## re.search\n",
    "*re.search(p,s)*\n",
    "\n",
    "p: patron de busqueda (expresion regular)\n",
    "\n",
    "s: cadena de texto"
   ]
  },
  {
   "cell_type": "code",
   "execution_count": 5,
   "id": "4efccb5d",
   "metadata": {},
   "outputs": [
    {
     "name": "stdout",
     "output_type": "stream",
     "text": [
      "['estatal', 'jueves', 'empresa', 'centrales', 'francesa']\n"
     ]
    }
   ],
   "source": [
    "arr = [w for w in flatten if re.search('es', w)]\n",
    "print(arr[:5])"
   ]
  },
  {
   "cell_type": "markdown",
   "id": "cf0d3519",
   "metadata": {},
   "source": [
    "**$: termina en** \n",
    "(Se coloca al final)"
   ]
  },
  {
   "cell_type": "code",
   "execution_count": 6,
   "id": "fd286e53",
   "metadata": {},
   "outputs": [
    {
     "name": "stdout",
     "output_type": "stream",
     "text": [
      "['jueves', 'centrales', 'millones', 'millones', 'dólares']\n"
     ]
    }
   ],
   "source": [
    "arr = [w for w in flatten if re.search('es$', w)]\n",
    "print(arr[:5])"
   ]
  },
  {
   "cell_type": "markdown",
   "id": "1254e563",
   "metadata": {},
   "source": [
    "**^: inicia en** (Se coloca al inicio de la expresion)"
   ]
  },
  {
   "cell_type": "code",
   "execution_count": 7,
   "id": "41511750",
   "metadata": {},
   "outputs": [
    {
     "name": "stdout",
     "output_type": "stream",
     "text": [
      "['estatal', 'es', 'esta', 'esta', 'eso']\n"
     ]
    }
   ],
   "source": [
    "arr = [w for w in flatten if re.search('^es', w)]\n",
    "print(arr[:5])"
   ]
  },
  {
   "cell_type": "markdown",
   "id": "cb5a9200",
   "metadata": {},
   "source": [
    "### Rango \n",
    "[a-z]: Busqueda entre la a y la z\n",
    "\n",
    "[ghi]: Busqueda entre la g, h o i."
   ]
  },
  {
   "cell_type": "code",
   "execution_count": 8,
   "id": "3a62992d",
   "metadata": {},
   "outputs": [
    {
     "name": "stdout",
     "output_type": "stream",
     "text": [
      "['grupo', 'hoy', 'gas', 'gas', 'intervendrá', 'invertir', 'gas', 'hoy', 'insulto', 'intervención']\n"
     ]
    }
   ],
   "source": [
    "arr = [w for w in flatten if re.search('^[ghi]', w)]\n",
    "print(arr[:10])"
   ]
  },
  {
   "cell_type": "markdown",
   "id": "f55e1f8f",
   "metadata": {},
   "source": [
    "### Clausura\n",
    "(*) repetir 0 o mas veces\n",
    "\n",
    "(+) repetir 1 o mas veces"
   ]
  },
  {
   "cell_type": "code",
   "execution_count": 9,
   "id": "f1d4f17f",
   "metadata": {},
   "outputs": [
    {
     "name": "stdout",
     "output_type": "stream",
     "text": [
      "['norte', 'no', 'no', 'noche', 'no', 'no', 'notificación', 'no', 'no', 'no', 'no_obstante', 'no', 'no', 'no', 'norte', 'no', 'no', 'no', 'no', 'norteamericano']\n"
     ]
    }
   ],
   "source": [
    "arr = [w for w in flatten if re.search('^(no)+', w)]\n",
    "print(arr[:20])"
   ]
  },
  {
   "cell_type": "markdown",
   "id": "122146b9",
   "metadata": {},
   "source": [
    "## Normalizacion"
   ]
  },
  {
   "cell_type": "code",
   "execution_count": 10,
   "id": "24d81944",
   "metadata": {},
   "outputs": [
    {
     "name": "stdout",
     "output_type": "stream",
     "text": [
      "esta es \n",
      " una prueba\n"
     ]
    }
   ],
   "source": [
    "print('esta es \\n una prueba')"
   ]
  },
  {
   "cell_type": "code",
   "execution_count": 11,
   "id": "1b12d0d6",
   "metadata": {},
   "outputs": [
    {
     "name": "stdout",
     "output_type": "stream",
     "text": [
      "esta es \\n una prueba\n"
     ]
    }
   ],
   "source": [
    "#raw (texto plano)\n",
    "print(r'esta es \\n una prueba')"
   ]
  },
  {
   "cell_type": "markdown",
   "id": "0de0e482",
   "metadata": {},
   "source": [
    "# Tokenizacion"
   ]
  },
  {
   "cell_type": "code",
   "execution_count": 12,
   "id": "ded95a66",
   "metadata": {},
   "outputs": [],
   "source": [
    "texto =  \"\"\" Cuando sea el rey del mundo (imaginaba él en su cabeza) no tendré que  preocuparme por estas bobadas. \n",
    "            Era solo un niño de 7 años, pero pensaba que podría ser cualquier cosa que su imaginación le permitiera \n",
    "            visualizar en su cabeza ...\"\"\" "
   ]
  },
  {
   "cell_type": "markdown",
   "id": "18e4cd6d",
   "metadata": {},
   "source": [
    "### Caso 1: tokenizar por espacios vacios"
   ]
  },
  {
   "cell_type": "code",
   "execution_count": 13,
   "id": "7a2f2074",
   "metadata": {},
   "outputs": [
    {
     "name": "stdout",
     "output_type": "stream",
     "text": [
      "['', 'Cuando', 'sea', 'el', 'rey', 'del', 'mundo', '(imaginaba', 'él', 'en', 'su', 'cabeza)', 'no', 'tendré', 'que', '', 'preocuparme', 'por', 'estas', 'bobadas.', '\\n', '', '', '', '', '', '', '', '', '', '', '', 'Era', 'solo', 'un', 'niño', 'de', '7', 'años,', 'pero', 'pensaba', 'que', 'podría', 'ser', 'cualquier', 'cosa', 'que', 'su', 'imaginación', 'le', 'permitiera', '\\n', '', '', '', '', '', '', '', '', '', '', '', 'visualizar', 'en', 'su', 'cabeza', '...']\n"
     ]
    }
   ],
   "source": [
    "print(re.split(r' ',texto))"
   ]
  },
  {
   "cell_type": "markdown",
   "id": "0df23921",
   "metadata": {},
   "source": [
    "### Caso 2: tokenizar usando regex\n",
    "**\\s:** reconoce diferentes clases de espacios"
   ]
  },
  {
   "cell_type": "code",
   "execution_count": 14,
   "id": "81a9b9f2",
   "metadata": {},
   "outputs": [
    {
     "name": "stdout",
     "output_type": "stream",
     "text": [
      "['', 'Cuando', 'sea', 'el', 'rey', 'del', 'mundo', '(imaginaba', 'él', 'en', 'su', 'cabeza)', 'no', 'tendré', 'que', 'preocuparme', 'por', 'estas', 'bobadas.', 'Era', 'solo', 'un', 'niño', 'de', '7', 'años,', 'pero', 'pensaba', 'que', 'podría', 'ser', 'cualquier', 'cosa', 'que', 'su', 'imaginación', 'le', 'permitiera', 'visualizar', 'en', 'su', 'cabeza', '...']\n"
     ]
    }
   ],
   "source": [
    "print(re.split(r'[ \\t\\n]+',texto))"
   ]
  },
  {
   "cell_type": "code",
   "execution_count": 15,
   "id": "88e2a649",
   "metadata": {},
   "outputs": [
    {
     "name": "stdout",
     "output_type": "stream",
     "text": [
      "['', 'Cuando', 'sea', 'el', 'rey', 'del', 'mundo', '(imaginaba', 'él', 'en', 'su', 'cabeza)', 'no', 'tendré', 'que', 'preocuparme', 'por', 'estas', 'bobadas.', 'Era', 'solo', 'un', 'niño', 'de', '7', 'años,', 'pero', 'pensaba', 'que', 'podría', 'ser', 'cualquier', 'cosa', 'que', 'su', 'imaginación', 'le', 'permitiera', 'visualizar', 'en', 'su', 'cabeza', '...']\n"
     ]
    }
   ],
   "source": [
    "print(re.split(r'[ \\s]+',texto))"
   ]
  },
  {
   "cell_type": "markdown",
   "id": "7b7364a0",
   "metadata": {},
   "source": [
    "### Caso 3\n",
    "**\\W:** Hace match con todo lo que no sea un caracter alfanumérico (como paréntesis, símbolos raros, etc.)"
   ]
  },
  {
   "cell_type": "code",
   "execution_count": 16,
   "id": "34c267e6",
   "metadata": {},
   "outputs": [
    {
     "name": "stdout",
     "output_type": "stream",
     "text": [
      "['', 'Cuando', 'sea', 'el', 'rey', 'del', 'mundo', 'imaginaba', 'él', 'en', 'su', 'cabeza', 'no', 'tendré', 'que', 'preocuparme', 'por', 'estas', 'bobadas', 'Era', 'solo', 'un', 'niño', 'de', '7', 'años', 'pero', 'pensaba', 'que', 'podría', 'ser', 'cualquier', 'cosa', 'que', 'su', 'imaginación', 'le', 'permitiera', 'visualizar', 'en', 'su', 'cabeza', '']\n"
     ]
    }
   ],
   "source": [
    "print(re.split(r'[ \\W\\t\\n]+',texto))"
   ]
  },
  {
   "cell_type": "markdown",
   "id": "87911c38",
   "metadata": {},
   "source": [
    "## Tokenizador de NLTK"
   ]
  },
  {
   "cell_type": "code",
   "execution_count": 17,
   "id": "20484414",
   "metadata": {},
   "outputs": [
    {
     "name": "stdout",
     "output_type": "stream",
     "text": [
      "['En', 'los', 'E', 'U', 'esa', 'postal', 'vale', '15', '50', '']\n"
     ]
    }
   ],
   "source": [
    "texto = 'En los E.U. esa postal vale $15.50 ...'\n",
    "print(re.split(r'[ \\W\\t\\n]+',texto))"
   ]
  },
  {
   "cell_type": "code",
   "execution_count": 18,
   "id": "19f1bda8",
   "metadata": {},
   "outputs": [
    {
     "data": {
      "text/plain": [
       "['En', 'los', 'E.U.', 'esa', 'postal', 'vale', '$15.50', '...']"
      ]
     },
     "execution_count": 18,
     "metadata": {},
     "output_type": "execute_result"
    }
   ],
   "source": [
    "pattern = r'''(?x)                  #set flag to allow verbose regexps\n",
    "              (?:[A-Z]\\.)+          #abbreviatons, e.g U.S.A.\n",
    "              | \\w+(?:-\\w+)*        #words with optional internal hyphens\n",
    "              | \\$?\\d+(?:\\.\\d+)?%?  #currency and percentages, e.g. $12.40, 82%\n",
    "              | \\.\\.\\.              #ellipsis\n",
    "              | [][.,;\"'?():-_`]    #these are separate tokens; includes ], [\n",
    "'''\n",
    "nltk.regexp_tokenize(texto, pattern)"
   ]
  },
  {
   "cell_type": "markdown",
   "id": "ba3304e7",
   "metadata": {},
   "source": [
    "pattern = r'''\n",
    "\n",
    "              (?x)                  # Flag para iniciar el modo verbose\n",
    "\n",
    "              (?:[A-Z]\\.)+          # Hace match con abreviaciones como U.S.A.\n",
    "              \n",
    "              | \\w+(?:-\\w+)*        # Hace match con palabras que pueden tener un guión interno\n",
    "              \n",
    "              | \\$?\\d+(?:\\.\\d+)?%?  # Hace match con dinero o porcentajes como $15.5 o 100%\n",
    "              \n",
    "              | \\.\\.\\.              # Hace match con puntos suspensivos\n",
    "              \n",
    "              | [][.,;\"'?():-_`]    # Hace match con signos de puntuación\n",
    "'''"
   ]
  },
  {
   "cell_type": "code",
   "execution_count": null,
   "id": "687d47d7",
   "metadata": {},
   "outputs": [],
   "source": []
  }
 ],
 "metadata": {
  "kernelspec": {
   "display_name": "Python 3 (ipykernel)",
   "language": "python",
   "name": "python3"
  },
  "language_info": {
   "codemirror_mode": {
    "name": "ipython",
    "version": 3
   },
   "file_extension": ".py",
   "mimetype": "text/x-python",
   "name": "python",
   "nbconvert_exporter": "python",
   "pygments_lexer": "ipython3",
   "version": "3.8.6rc1"
  }
 },
 "nbformat": 4,
 "nbformat_minor": 5
}
